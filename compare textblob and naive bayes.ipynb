{
 "cells": [
  {
   "cell_type": "code",
   "execution_count": 1,
   "metadata": {
    "collapsed": true
   },
   "outputs": [],
   "source": [
    "from textblob import TextBlob\n",
    "import pickle"
   ]
  },
  {
   "cell_type": "code",
   "execution_count": 2,
   "metadata": {},
   "outputs": [
    {
     "name": "stdout",
     "output_type": "stream",
     "text": [
      "8898041\n"
     ]
    }
   ],
   "source": [
    "review_size = 0\n",
    "with open('data/reviews_Books_5.json', 'r') as f:\n",
    "    for line in f:\n",
    "        review_size+=1\n",
    "print review_size"
   ]
  },
  {
   "cell_type": "markdown",
   "metadata": {},
   "source": [
    "## Textblob"
   ]
  },
  {
   "cell_type": "code",
   "execution_count": 4,
   "metadata": {},
   "outputs": [
    {
     "name": "stdout",
     "output_type": "stream",
     "text": [
      "Reviews #5000/100000\n",
      "Reviews #10000/100000\n",
      "Reviews #15000/100000\n",
      "Reviews #20000/100000\n",
      "Reviews #25000/100000\n",
      "Reviews #30000/100000\n",
      "Reviews #35000/100000\n",
      "Reviews #40000/100000\n",
      "Reviews #45000/100000\n",
      "Reviews #50000/100000\n",
      "Reviews #55000/100000\n",
      "Reviews #60000/100000\n",
      "Reviews #65000/100000\n",
      "Reviews #70000/100000\n",
      "Reviews #75000/100000\n",
      "Reviews #80000/100000\n",
      "Reviews #85000/100000\n",
      "Reviews #90000/100000\n",
      "Reviews #95000/100000\n",
      "accuracy = 0.63338\n"
     ]
    }
   ],
   "source": [
    "n_correct = 0;\n",
    "line_index = 0\n",
    "with open('data/reviews_Books_5.json', 'r') as f:\n",
    "    for line in f:\n",
    "        line_index+=1\n",
    "        # training set: 100000:\n",
    "        # test set: :100000\n",
    "        if line_index>=100000:\n",
    "            break\n",
    "        if line_index%5000==0:\n",
    "            print \"Reviews #\"+str(line_index)+\"/\"+str(100000)\n",
    "        if \"reviewText\" not in line or \"overall\" not in line:\n",
    "            continue\n",
    "        review_start = line.index(\"\\\"reviewText\\\":\")+15\n",
    "        review_end = line.index(\"\\\"overall\\\":\")-3\n",
    "        if review_end-review_start<50:\n",
    "            continue\n",
    "        review = line[review_start:review_end]\n",
    "        overall = int(line[review_end+14:review_end+15])\n",
    "        \n",
    "        blob = TextBlob(review)\n",
    "        score = blob.sentences[0].sentiment[0]\n",
    "        if (score>0 and overall>3.5) or (score<=0 and overall<3.5):\n",
    "            n_correct+=1\n",
    "\n",
    "print \"accuracy = \"+str(n_correct/100000.0)"
   ]
  },
  {
   "cell_type": "code",
   "execution_count": 5,
   "metadata": {},
   "outputs": [
    {
     "name": "stdout",
     "output_type": "stream",
     "text": [
      "Reviews #5000/100000\n",
      "Reviews #10000/100000\n",
      "Reviews #15000/100000\n",
      "Reviews #20000/100000\n",
      "Reviews #25000/100000\n",
      "Reviews #30000/100000\n",
      "Reviews #35000/100000\n",
      "Reviews #40000/100000\n",
      "Reviews #45000/100000\n",
      "Reviews #50000/100000\n",
      "Reviews #55000/100000\n",
      "Reviews #60000/100000\n",
      "Reviews #65000/100000\n",
      "Reviews #70000/100000\n",
      "Reviews #75000/100000\n",
      "Reviews #80000/100000\n",
      "Reviews #85000/100000\n",
      "Reviews #90000/100000\n",
      "Reviews #95000/100000\n",
      "accuracy = 0.7878\n"
     ]
    }
   ],
   "source": [
    "with open('weights.pickle', 'rb') as handle:\n",
    "    weights = pickle.load(handle)\n",
    "\n",
    "n_correct = 0;\n",
    "line_index = 0\n",
    "with open('data/reviews_Books_5.json', 'r') as f:\n",
    "    for line in f:\n",
    "        line_index+=1\n",
    "        # training set: 100000:\n",
    "        # test set: :100000\n",
    "        if line_index>=100000:\n",
    "            break\n",
    "        if line_index%5000==0:\n",
    "            print \"Reviews #\"+str(line_index)+\"/\"+str(100000)\n",
    "        if \"reviewText\" not in line or \"overall\" not in line:\n",
    "            continue\n",
    "        review_start = line.index(\"\\\"reviewText\\\":\")+15\n",
    "        review_end = line.index(\"\\\"overall\\\":\")-3\n",
    "        if review_end-review_start<50:\n",
    "            continue\n",
    "        review = line[review_start:review_end]\n",
    "        overall = int(line[review_end+14:review_end+15])\n",
    "        \n",
    "        for i in xrange(len(review)):\n",
    "            if not review[i].isalpha():\n",
    "                review = review[:i]+\" \"+review[i:]\n",
    "        review = review.split()\n",
    "        \n",
    "        good_score = 1\n",
    "        bad_score = 1\n",
    "        for word in review:\n",
    "            wordl = word.lower()\n",
    "            if wordl in weights:\n",
    "                good_score*=weights[wordl]\n",
    "                bad_score*=(1-weights[wordl])\n",
    "        \n",
    "        if (good_score>bad_score and overall>3.5) or (good_score<=bad_score and overall<3.5):\n",
    "            n_correct+=1\n",
    "\n",
    "print \"accuracy = \"+str(n_correct/100000.0)"
   ]
  },
  {
   "cell_type": "code",
   "execution_count": null,
   "metadata": {
    "collapsed": true
   },
   "outputs": [],
   "source": []
  }
 ],
 "metadata": {
  "kernelspec": {
   "display_name": "Python 2",
   "language": "python",
   "name": "python2"
  },
  "language_info": {
   "codemirror_mode": {
    "name": "ipython",
    "version": 2
   },
   "file_extension": ".py",
   "mimetype": "text/x-python",
   "name": "python",
   "nbconvert_exporter": "python",
   "pygments_lexer": "ipython2",
   "version": "2.7.14"
  }
 },
 "nbformat": 4,
 "nbformat_minor": 2
}
