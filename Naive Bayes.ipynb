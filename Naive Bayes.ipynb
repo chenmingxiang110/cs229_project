{
 "cells": [
  {
   "cell_type": "code",
   "execution_count": 8,
   "metadata": {
    "collapsed": true
   },
   "outputs": [],
   "source": [
    "import numpy as np"
   ]
  },
  {
   "cell_type": "code",
   "execution_count": 9,
   "metadata": {},
   "outputs": [
    {
     "name": "stdout",
     "output_type": "stream",
     "text": [
      "['the', ',', '.', 'of', 'to']\n"
     ]
    }
   ],
   "source": [
    "words = []\n",
    "with open('data/glove.6B.100d.txt', 'r') as f:\n",
    "    for line in f:\n",
    "        words.append(line.split()[0])\n",
    "print words[:5]"
   ]
  },
  {
   "cell_type": "code",
   "execution_count": 10,
   "metadata": {},
   "outputs": [
    {
     "name": "stdout",
     "output_type": "stream",
     "text": [
      "8898041\n"
     ]
    }
   ],
   "source": [
    "review_size = 0\n",
    "with open('data/reviews_Books_5.json', 'r') as f:\n",
    "    for line in f:\n",
    "        review_size+=1\n",
    "print review_size"
   ]
  },
  {
   "cell_type": "code",
   "execution_count": 11,
   "metadata": {},
   "outputs": [
    {
     "name": "stdout",
     "output_type": "stream",
     "text": [
      "Reviews #100000\n",
      "Reviews #101000\n",
      "Reviews #102000\n",
      "Reviews #103000\n",
      "Reviews #104000\n",
      "Reviews #105000\n",
      "Reviews #106000\n",
      "Reviews #107000\n",
      "Reviews #108000\n",
      "Reviews #109000\n",
      "Reviews #110000\n",
      "Reviews #111000\n",
      "Reviews #112000\n",
      "Reviews #113000\n",
      "Reviews #114000\n",
      "Reviews #115000\n",
      "Reviews #116000\n",
      "Reviews #117000\n",
      "Reviews #118000\n",
      "Reviews #119000\n",
      "Reviews #120000\n",
      "Reviews #121000\n",
      "Reviews #122000\n",
      "Reviews #123000\n"
     ]
    },
    {
     "ename": "KeyboardInterrupt",
     "evalue": "",
     "output_type": "error",
     "traceback": [
      "\u001b[0;31m---------------------------------------------------------------------------\u001b[0m",
      "\u001b[0;31mKeyboardInterrupt\u001b[0m                         Traceback (most recent call last)",
      "\u001b[0;32m<ipython-input-11-2e863b2b276c>\u001b[0m in \u001b[0;36m<module>\u001b[0;34m()\u001b[0m\n\u001b[1;32m      8\u001b[0m \u001b[0mline_index\u001b[0m \u001b[0;34m=\u001b[0m \u001b[0;36m0\u001b[0m\u001b[0;34m\u001b[0m\u001b[0m\n\u001b[1;32m      9\u001b[0m \u001b[0;32mwith\u001b[0m \u001b[0mopen\u001b[0m\u001b[0;34m(\u001b[0m\u001b[0;34m'data/reviews_Books_5.json'\u001b[0m\u001b[0;34m,\u001b[0m \u001b[0;34m'r'\u001b[0m\u001b[0;34m)\u001b[0m \u001b[0;32mas\u001b[0m \u001b[0mf\u001b[0m\u001b[0;34m:\u001b[0m\u001b[0;34m\u001b[0m\u001b[0m\n\u001b[0;32m---> 10\u001b[0;31m     \u001b[0;32mfor\u001b[0m \u001b[0mline\u001b[0m \u001b[0;32min\u001b[0m \u001b[0mf\u001b[0m\u001b[0;34m:\u001b[0m\u001b[0;34m\u001b[0m\u001b[0m\n\u001b[0m\u001b[1;32m     11\u001b[0m         \u001b[0mline_index\u001b[0m\u001b[0;34m+=\u001b[0m\u001b[0;36m1\u001b[0m\u001b[0;34m\u001b[0m\u001b[0m\n\u001b[1;32m     12\u001b[0m         \u001b[0;31m# training set: 100000:\u001b[0m\u001b[0;34m\u001b[0m\u001b[0;34m\u001b[0m\u001b[0m\n",
      "\u001b[0;31mKeyboardInterrupt\u001b[0m: "
     ]
    }
   ],
   "source": [
    "word_appearance = {}\n",
    "good_appearnce = {}\n",
    "\n",
    "for word in words:\n",
    "    word_appearance[word] = 0\n",
    "    good_appearnce[word] = 0\n",
    "\n",
    "line_index = 0\n",
    "with open('data/reviews_Books_5.json', 'r') as f:\n",
    "    for line in f:\n",
    "        line_index+=1\n",
    "        # training set: 100000:\n",
    "        # test set: :100000\n",
    "        if line_index<100000:\n",
    "            continue\n",
    "        if line_index%1000==0:\n",
    "            print \"Reviews #\"+str(line_index)\n",
    "        if \"reviewText\" not in line or \"overall\" not in line:\n",
    "            continue\n",
    "        review_start = line.index(\"\\\"reviewText\\\":\")+15\n",
    "        review_end = line.index(\"\\\"overall\\\":\")-3\n",
    "        if review_end-review_start<50:\n",
    "            continue\n",
    "        review = line[review_start:review_end]\n",
    "        overall = int(line[review_end+14:review_end+15])\n",
    "\n",
    "        for i in xrange(len(review)):\n",
    "            if not review[i].isalpha():\n",
    "                review = review[:i]+\" \"+review[i:]\n",
    "        review = review.split()\n",
    "        for word in review:\n",
    "            word_l = word.lower()\n",
    "            if word_l in word_appearance:\n",
    "                word_appearance[word_l]+=1\n",
    "                if overall>3.5:\n",
    "                    good_appearnce[word_l]+=1\n",
    "\n",
    "weights = {}\n",
    "for word in word_appearance:\n",
    "    weights[word] = float(good_appearnce[word])/float(word_appearance[word])\n",
    "                "
   ]
  },
  {
   "cell_type": "markdown",
   "metadata": {},
   "source": [
    "## Too Slow, switch to \".py\" file and use pypy to run"
   ]
  },
  {
   "cell_type": "code",
   "execution_count": null,
   "metadata": {
    "collapsed": true
   },
   "outputs": [],
   "source": []
  }
 ],
 "metadata": {
  "kernelspec": {
   "display_name": "Python 2",
   "language": "python",
   "name": "python2"
  },
  "language_info": {
   "codemirror_mode": {
    "name": "ipython",
    "version": 2
   },
   "file_extension": ".py",
   "mimetype": "text/x-python",
   "name": "python",
   "nbconvert_exporter": "python",
   "pygments_lexer": "ipython2",
   "version": "2.7.14"
  }
 },
 "nbformat": 4,
 "nbformat_minor": 2
}
